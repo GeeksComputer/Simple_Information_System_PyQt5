{
 "cells": [
  {
   "cell_type": "markdown",
   "metadata": {},
   "source": [
    "Langkah pertama dalam pembuatan simpel aplikasi sistem informasi berbasis dekstop yaitu memasang library python untuk melakukan pemrograman visual dan memasang library python sqlite3 dengan cara membuka commandlines atau terminal lalu ketikkan perintah:"
   ]
  },
  {
   "cell_type": "code",
   "execution_count": null,
   "metadata": {
    "vscode": {
     "languageId": "shellscript"
    }
   },
   "outputs": [],
   "source": [
    "pip install PyQt5"
   ]
  },
  {
   "cell_type": "code",
   "execution_count": null,
   "metadata": {
    "vscode": {
     "languageId": "shellscript"
    }
   },
   "outputs": [],
   "source": [
    "pip install sqlite3"
   ]
  },
  {
   "cell_type": "markdown",
   "metadata": {},
   "source": [
    "Langkah kedua adalah membuat direktori project atau aplikasi yang dibuat dengan mengetikkan perintah commandlines atau terminal:"
   ]
  },
  {
   "cell_type": "code",
   "execution_count": null,
   "metadata": {
    "vscode": {
     "languageId": "shellscript"
    }
   },
   "outputs": [],
   "source": [
    "mkdir simple_information_system_PyQt5 && cd simple_information_system_PyQt5"
   ]
  },
  {
   "cell_type": "markdown",
   "metadata": {},
   "source": [
    "Langkah ketiga adalah membuat berkas python dengan nama connection.py didalam direktori project dengan cara mengetikkan perintah commandlines atau terminal:"
   ]
  },
  {
   "cell_type": "code",
   "execution_count": null,
   "metadata": {
    "vscode": {
     "languageId": "shellscript"
    }
   },
   "outputs": [],
   "source": [
    "code connection.py"
   ]
  },
  {
   "cell_type": "markdown",
   "metadata": {},
   "source": [
    "Langkah keempat adalah memasukkan kode program pada connection.py untuk pembuatan basisdata dan melakukan penghubungan secara otomatis:"
   ]
  },
  {
   "cell_type": "code",
   "execution_count": null,
   "metadata": {},
   "outputs": [],
   "source": [
    "import sqlite3 as sql\n",
    "\n",
    "def main():\n",
    "    try:\n",
    "        database = sql.connect('database.db')\n",
    "        print('Database Created')\n",
    "    except:\n",
    "        print('Failed to create database')\n",
    "    finally:\n",
    "        database.close()\n",
    "\n",
    "if __name__ == \"__main__\":\n",
    "    main()"
   ]
  },
  {
   "cell_type": "markdown",
   "metadata": {},
   "source": [
    "Langkah kelima adalah membuat berkas baru didalam direktori projek dengan nama createTable.py untuk membuat tabel basisdata yang telah dibuat sebelumnya secara otomatis:"
   ]
  },
  {
   "cell_type": "code",
   "execution_count": null,
   "metadata": {},
   "outputs": [],
   "source": [
    "import sqlite3 as sql\n",
    "\n",
    "def main():\n",
    "    try:\n",
    "        database = sql.connect('database.db')\n",
    "        cur = database.cursor()\n",
    "        \n",
    "        query = \"CREATE TABLE employee (id INT, name TEXT, age TEXT, job TEXT, salary INT, email TEXT)\"\n",
    "        \n",
    "        cur.execute(query)\n",
    "        print(\"Table Created Successfully\")\n",
    "    except sql.Error as e:\n",
    "        print(\"There is a table or an error has occurred\")\n",
    "    finally:\n",
    "        database.close()\n",
    "\n",
    "if __name__ == \"__main__\":\n",
    "    main()"
   ]
  },
  {
   "cell_type": "markdown",
   "metadata": {},
   "source": [
    "Langkah keenam adalah membuat desain tampilan aplikasi (UI) / User Interface dengan cara membuat berkas baru didalam direktori project dengan nama design.ui dan masukkan kode xml:"
   ]
  },
  {
   "cell_type": "code",
   "execution_count": null,
   "metadata": {
    "vscode": {
     "languageId": "xml"
    }
   },
   "outputs": [],
   "source": [
    "<?xml version=\"1.0\" encoding=\"UTF-8\"?>\n",
    "<ui version=\"4.0\">\n",
    " <class>MainWindow</class>\n",
    " <widget class=\"QMainWindow\" name=\"SimpleInformationSystem\">\n",
    "  <property name=\"geometry\">\n",
    "   <rect>\n",
    "    <x>0</x>\n",
    "    <y>0</y>\n",
    "    <width>910</width>\n",
    "    <height>723</height>\n",
    "   </rect>\n",
    "  </property>\n",
    "  <property name=\"windowTitle\">\n",
    "   <string>Simple Information System</string>\n",
    "  </property>\n",
    "  <widget class=\"QWidget\" name=\"centralwidget\">\n",
    "   <widget class=\"QPushButton\" name=\"btnInsert\">\n",
    "    <property name=\"geometry\">\n",
    "     <rect>\n",
    "      <x>560</x>\n",
    "      <y>20</y>\n",
    "      <width>211</width>\n",
    "      <height>41</height>\n",
    "     </rect>\n",
    "    </property>\n",
    "    <property name=\"text\">\n",
    "     <string>INSERT</string>\n",
    "    </property>\n",
    "   </widget>\n",
    "   <widget class=\"QPushButton\" name=\"btnDelete\">\n",
    "    <property name=\"geometry\">\n",
    "     <rect>\n",
    "      <x>560</x>\n",
    "      <y>70</y>\n",
    "      <width>211</width>\n",
    "      <height>41</height>\n",
    "     </rect>\n",
    "    </property>\n",
    "    <property name=\"text\">\n",
    "     <string>DELETE</string>\n",
    "    </property>\n",
    "   </widget>\n",
    "   <widget class=\"QPushButton\" name=\"btnUpdate\">\n",
    "    <property name=\"geometry\">\n",
    "     <rect>\n",
    "      <x>560</x>\n",
    "      <y>120</y>\n",
    "      <width>211</width>\n",
    "      <height>41</height>\n",
    "     </rect>\n",
    "    </property>\n",
    "    <property name=\"text\">\n",
    "     <string>UPDATE</string>\n",
    "    </property>\n",
    "   </widget>\n",
    "   <widget class=\"QPushButton\" name=\"btnList\">\n",
    "    <property name=\"geometry\">\n",
    "     <rect>\n",
    "      <x>560</x>\n",
    "      <y>170</y>\n",
    "      <width>211</width>\n",
    "      <height>41</height>\n",
    "     </rect>\n",
    "    </property>\n",
    "    <property name=\"text\">\n",
    "     <string>LIST</string>\n",
    "    </property>\n",
    "   </widget>\n",
    "   <widget class=\"QLineEdit\" name=\"txtID\">\n",
    "    <property name=\"geometry\">\n",
    "     <rect>\n",
    "      <x>220</x>\n",
    "      <y>20</y>\n",
    "      <width>311</width>\n",
    "      <height>41</height>\n",
    "     </rect>\n",
    "    </property>\n",
    "   </widget>\n",
    "   <widget class=\"QLineEdit\" name=\"txtName\">\n",
    "    <property name=\"geometry\">\n",
    "     <rect>\n",
    "      <x>220</x>\n",
    "      <y>70</y>\n",
    "      <width>311</width>\n",
    "      <height>41</height>\n",
    "     </rect>\n",
    "    </property>\n",
    "   </widget>\n",
    "   <widget class=\"QLineEdit\" name=\"txtAge\">\n",
    "    <property name=\"geometry\">\n",
    "     <rect>\n",
    "      <x>220</x>\n",
    "      <y>120</y>\n",
    "      <width>311</width>\n",
    "      <height>41</height>\n",
    "     </rect>\n",
    "    </property>\n",
    "   </widget>\n",
    "   <widget class=\"QLineEdit\" name=\"txtJob\">\n",
    "    <property name=\"geometry\">\n",
    "     <rect>\n",
    "      <x>220</x>\n",
    "      <y>170</y>\n",
    "      <width>311</width>\n",
    "      <height>41</height>\n",
    "     </rect>\n",
    "    </property>\n",
    "   </widget>\n",
    "   <widget class=\"QLineEdit\" name=\"txtSalary\">\n",
    "    <property name=\"geometry\">\n",
    "     <rect>\n",
    "      <x>220</x>\n",
    "      <y>220</y>\n",
    "      <width>311</width>\n",
    "      <height>41</height>\n",
    "     </rect>\n",
    "    </property>\n",
    "   </widget>\n",
    "   <widget class=\"QLineEdit\" name=\"txtEmail\">\n",
    "    <property name=\"geometry\">\n",
    "     <rect>\n",
    "      <x>220</x>\n",
    "      <y>270</y>\n",
    "      <width>311</width>\n",
    "      <height>41</height>\n",
    "     </rect>\n",
    "    </property>\n",
    "   </widget>\n",
    "   <widget class=\"QLabel\" name=\"lblID\">\n",
    "    <property name=\"geometry\">\n",
    "     <rect>\n",
    "      <x>10</x>\n",
    "      <y>20</y>\n",
    "      <width>201</width>\n",
    "      <height>41</height>\n",
    "     </rect>\n",
    "    </property>\n",
    "    <property name=\"text\">\n",
    "     <string>ID</string>\n",
    "    </property>\n",
    "   </widget>\n",
    "   <widget class=\"QLabel\" name=\"lblName\">\n",
    "    <property name=\"geometry\">\n",
    "     <rect>\n",
    "      <x>10</x>\n",
    "      <y>70</y>\n",
    "      <width>201</width>\n",
    "      <height>41</height>\n",
    "     </rect>\n",
    "    </property>\n",
    "    <property name=\"text\">\n",
    "     <string>NAME</string>\n",
    "    </property>\n",
    "   </widget>\n",
    "   <widget class=\"QLabel\" name=\"lblAge\">\n",
    "    <property name=\"geometry\">\n",
    "     <rect>\n",
    "      <x>10</x>\n",
    "      <y>120</y>\n",
    "      <width>201</width>\n",
    "      <height>41</height>\n",
    "     </rect>\n",
    "    </property>\n",
    "    <property name=\"text\">\n",
    "     <string>AGE</string>\n",
    "    </property>\n",
    "   </widget>\n",
    "   <widget class=\"QLabel\" name=\"lblJob\">\n",
    "    <property name=\"geometry\">\n",
    "     <rect>\n",
    "      <x>10</x>\n",
    "      <y>170</y>\n",
    "      <width>201</width>\n",
    "      <height>41</height>\n",
    "     </rect>\n",
    "    </property>\n",
    "    <property name=\"text\">\n",
    "     <string>JOB</string>\n",
    "    </property>\n",
    "   </widget>\n",
    "   <widget class=\"QLabel\" name=\"lblSalary\">\n",
    "    <property name=\"geometry\">\n",
    "     <rect>\n",
    "      <x>10</x>\n",
    "      <y>220</y>\n",
    "      <width>201</width>\n",
    "      <height>41</height>\n",
    "     </rect>\n",
    "    </property>\n",
    "    <property name=\"text\">\n",
    "     <string>SALARY</string>\n",
    "    </property>\n",
    "   </widget>\n",
    "   <widget class=\"QLabel\" name=\"lblEmail\">\n",
    "    <property name=\"geometry\">\n",
    "     <rect>\n",
    "      <x>10</x>\n",
    "      <y>270</y>\n",
    "      <width>201</width>\n",
    "      <height>41</height>\n",
    "     </rect>\n",
    "    </property>\n",
    "    <property name=\"text\">\n",
    "     <string>EMAIL</string>\n",
    "    </property>\n",
    "   </widget>\n",
    "   <widget class=\"QTableWidget\" name=\"tblList\">\n",
    "    <property name=\"geometry\">\n",
    "     <rect>\n",
    "      <x>10</x>\n",
    "      <y>330</y>\n",
    "      <width>891</width>\n",
    "      <height>341</height>\n",
    "     </rect>\n",
    "    </property>\n",
    "   </widget>\n",
    "  </widget>\n",
    "  <widget class=\"QMenuBar\" name=\"menubar\">\n",
    "   <property name=\"geometry\">\n",
    "    <rect>\n",
    "     <x>0</x>\n",
    "     <y>0</y>\n",
    "     <width>910</width>\n",
    "     <height>22</height>\n",
    "    </rect>\n",
    "   </property>\n",
    "  </widget>\n",
    "  <widget class=\"QStatusBar\" name=\"statusbar\"/>\n",
    " </widget>\n",
    " <resources/>\n",
    " <connections/>\n",
    "</ui>"
   ]
  },
  {
   "cell_type": "markdown",
   "metadata": {},
   "source": [
    "Langkah ketujuh adalah melakukan konversi berkas design.ui menjadi design.py dengan cara membuka commandline atau terminal pada direktori project dan masukkan perintah:"
   ]
  },
  {
   "cell_type": "code",
   "execution_count": null,
   "metadata": {
    "vscode": {
     "languageId": "shellscript"
    }
   },
   "outputs": [],
   "source": [
    "pyuic5 -o design.py design.ui"
   ]
  },
  {
   "cell_type": "markdown",
   "metadata": {},
   "source": [
    "Langkah kedelapan adalah membuat berkas python utama untuk proses aplikasi yang dibuat dengan nama employees.py dan masukkan kode program:"
   ]
  },
  {
   "cell_type": "code",
   "execution_count": null,
   "metadata": {},
   "outputs": [],
   "source": [
    "from PyQt5 import QtWidgets \n",
    "from PyQt5.QtWidgets import QTableWidgetItem \n",
    "from design import Ui_MainWindow\n",
    "import sys\n",
    "import sqlite3 as sql\n",
    "import os \n",
    "os.system('python connection.py')\n",
    "os.system('python createTable.py')\n",
    "\n",
    "global id, name, age, job, salary, email\n",
    "\n",
    "# Kullanicilar tablosunun alanlari (id INT, isim TEXT, soyisim TEXT, sehir TEXT, telefon TEXT, email TEXT)\n",
    "\n",
    "class Window(QtWidgets.QMainWindow):\n",
    "    def __init__(self):\n",
    "        super(Window, self).__init__()  \n",
    "        self.ui = Ui_MainWindow()\n",
    "        self.ui.setupUi(self)     \n",
    "\n",
    "        self.btnListClick()\n",
    "        self.ui.btnList.clicked.connect(self.btnListClick)\n",
    "        self.ui.btnInsert.clicked.connect(self.btnInsert)\n",
    "        self.ui.btnDelete.clicked.connect(self.btnDelete)\n",
    "        self.ui.btnUpdate.clicked.connect(self.btnUpdate)\n",
    "        self.ui.tblList.clicked.connect(self.ListOnClick) \n",
    " \n",
    "    def btnClear(self):\n",
    "        self.ui.txtID.clear()\n",
    "        self.ui.txtName.clear()\n",
    "        self.ui.txtAge.clear()\n",
    "        self.ui.txtJob.clear()\n",
    "        self.ui.txtSalary.clear()\n",
    "        self.ui.txtEmail.clear()\n",
    "\n",
    "    def ListOnClick(self): \n",
    "        self.ui.txtID.setText(self.ui.tblList.item(self.ui.tblList.currentRow(), 0).text())\n",
    "        self.ui.txtName.setText(self.ui.tblList.item(self.ui.tblList.currentRow(), 1).text())\n",
    "        self.ui.txtAge.setText(self.ui.tblList.item(self.ui.tblList.currentRow(), 2).text())\n",
    "        self.ui.txtJob.setText(self.ui.tblList.item(self.ui.tblList.currentRow(), 3).text())\n",
    "        self.ui.txtSalary.setText(self.ui.tblList.item(self.ui.tblList.currentRow(), 4).text())\n",
    "        self.ui.txtEmail.setText(self.ui.tblList.item(self.ui.tblList.currentRow(), 5).text())\n",
    " \n",
    "    def btnInsert(self): \n",
    "        id = self.ui.txtID.text()\n",
    "        name = self.ui.txtName.text()\n",
    "        age = self.ui.txtAge.text()\n",
    "        job = self.ui.txtJob.text()\n",
    "        salary = self.ui.txtSalary.text()\n",
    "        email = self.ui.txtEmail.text()\n",
    "\n",
    "        try:\n",
    "            self.conn = sql.connect(\"database.db\")\n",
    "            self.c = self.conn.cursor() \n",
    "            self.c.execute(\"INSERT INTO employee VALUES (?,?,?,?,?,?)\",(id,name,age,job,salary,email))\n",
    "            self.conn.commit()\n",
    "            self.c.close()\n",
    "            self.conn.close()\n",
    "            print('Successful','User is added successfully to the database.')\n",
    "        except Exception:\n",
    "            print('Error', 'Could not add employees to the database.')\n",
    "        \n",
    "        self.btnClear()\n",
    "        self.btnListClick()\n",
    "\n",
    "    def btnListClick(self):  \n",
    "        self.ui.tblList.clear()\n",
    "        self.ui.tblList.setColumnCount(6)\n",
    "        self.ui.tblList.setHorizontalHeaderLabels(('ID','Name','Age','Job','Salary','Email'))\n",
    "        self.ui.tblList.horizontalHeader().setSectionResizeMode(QtWidgets.QHeaderView.Stretch)\n",
    "        db = sql.connect('database.db')\n",
    "        cur = db.cursor()\n",
    "        selectquery = \"SELECT * FROM employee\"\n",
    "        cur.execute(selectquery) \n",
    "        rows = cur.fetchall()\n",
    "         \n",
    "        self.ui.tblList.setRowCount(len(rows))\n",
    "        \n",
    "        for satirIndeks, satirVeri in enumerate(rows):\n",
    "            for sutunIndeks, sutunVeri in enumerate (satirVeri):\n",
    "                self.ui.tblList.setItem(satirIndeks,sutunIndeks,QTableWidgetItem(str(sutunVeri))) \n",
    "    \n",
    "    def btnUpdate(self):  \n",
    "        id = self.ui.txtID.text()\n",
    "        name = self.ui.txtName.text()\n",
    "        age = self.ui.txtAge.text()\n",
    "        job = self.ui.txtJob.text()\n",
    "        salary = self.ui.txtSalary.text()\n",
    "        email = self.ui.txtEmail.text()\n",
    "\n",
    "        try:\n",
    "            self.conn = sql.connect(\"database.db\")\n",
    "            self.c = self.conn.cursor()  \n",
    "            self.c.execute(\"UPDATE employee SET name = ?, age = ?, job = ?, \\\n",
    "                salary = ?, email = ? WHERE id = ?\",(name,age,job,salary,email,id))\n",
    "            self.conn.commit()\n",
    "            self.c.close()\n",
    "            self.conn.close()\n",
    "            print('Successful','User is updated successfully to the database.')\n",
    "        except Exception:\n",
    "            print('Error', 'Could not update employees to the database.')\n",
    "\n",
    "        self.btnClear()\n",
    "        self.btnListClick()\n",
    "\n",
    "    def btnDelete(self): \n",
    "        id = self.ui.txtID.text() \n",
    "\n",
    "        try:\n",
    "            self.conn = sql.connect(\"database.db\")\n",
    "            self.c = self.conn.cursor() \n",
    "            self.c.execute('DELETE FROM employee WHERE id = ?  ', (id,))\n",
    "            self.conn.commit()\n",
    "            self.c.close()\n",
    "            self.conn.close()\n",
    "            print('Successful','User is deleted successfully from the database.')\n",
    "        except Exception:\n",
    "            print('Error', 'Could not delete employees to the database.')\n",
    "        \n",
    "        self.btnClear()\n",
    "        self.btnListClick()\n",
    "\n",
    "            \n",
    "def app():\n",
    "    app = QtWidgets.QApplication(sys.argv)\n",
    "    win = Window()\n",
    "    win.show()\n",
    "    sys.exit(app.exec_())\n",
    "\n",
    "app()"
   ]
  },
  {
   "cell_type": "markdown",
   "metadata": {},
   "source": [
    "Langkah terakhir adalah menjalankan dan membuka aplikasi yang telah dibuat dengan cara membuka commandline atau terminal, lalu ketikkan perintah:"
   ]
  },
  {
   "cell_type": "code",
   "execution_count": null,
   "metadata": {
    "vscode": {
     "languageId": "shellscript"
    }
   },
   "outputs": [],
   "source": [
    "python3 employees.py"
   ]
  },
  {
   "cell_type": "markdown",
   "metadata": {},
   "source": [
    "Simpel Aplikasi Sistem Informasi berbasis dekstop telah berhasil dibuat, silahkan memahami sendiri setiap baris kode programnya. Jika masih belum paham dengan kode programnya, belajarlah bahasa pemrograman dasar python secara pelan-pelan (selangkah demi selangkah), basisdata sql, dan konsep pemrograman visual."
   ]
  }
 ],
 "metadata": {
  "language_info": {
   "name": "python"
  },
  "orig_nbformat": 4
 },
 "nbformat": 4,
 "nbformat_minor": 2
}
